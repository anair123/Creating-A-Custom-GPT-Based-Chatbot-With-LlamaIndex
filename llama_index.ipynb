{
 "cells": [
  {
   "cell_type": "code",
   "execution_count": 1,
   "id": "5b39001d",
   "metadata": {},
   "outputs": [],
   "source": [
    "import os \n",
    "import config "
   ]
  },
  {
   "cell_type": "code",
   "execution_count": 2,
   "id": "01e68334",
   "metadata": {},
   "outputs": [],
   "source": [
    "#pip install llama-index\n",
    "#pip install openai"
   ]
  },
  {
   "cell_type": "code",
   "execution_count": 4,
   "id": "a40b73cf",
   "metadata": {},
   "outputs": [],
   "source": [
    "# insert your API KEY here\n",
    "os.environ['OPENAI_API_KEY'] = config.API_KEY"
   ]
  },
  {
   "cell_type": "markdown",
   "id": "d3ed130e",
   "metadata": {},
   "source": [
    "### Querying the .txt file "
   ]
  },
  {
   "cell_type": "code",
   "execution_count": 11,
   "id": "2b98daf7",
   "metadata": {},
   "outputs": [
    {
     "name": "stderr",
     "output_type": "stream",
     "text": [
      "INFO:llama_index.token_counter.token_counter:> [build_index_from_nodes] Total LLM token usage: 0 tokens\n",
      "INFO:llama_index.token_counter.token_counter:> [build_index_from_nodes] Total embedding token usage: 315 tokens\n"
     ]
    }
   ],
   "source": [
    "from llama_index import GPTSimpleVectorIndex, SimpleDirectoryReader\n",
    "\n",
    "# load the .txt data and convert it into an index\n",
    "documents_txt = SimpleDirectoryReader('data').load_data()\n",
    "index_txt = GPTSimpleVectorIndex.from_documents(documents_txt)\n",
    "\n",
    "# save to disk\n",
    "index_txt.save_to_disk('index_txt.json')"
   ]
  },
  {
   "cell_type": "code",
   "execution_count": 13,
   "id": "92c1ad30",
   "metadata": {},
   "outputs": [
    {
     "name": "stderr",
     "output_type": "stream",
     "text": [
      "INFO:llama_index.token_counter.token_counter:> [query] Total LLM token usage: 354 tokens\n",
      "INFO:llama_index.token_counter.token_counter:> [query] Total embedding token usage: 6 tokens\n"
     ]
    },
    {
     "data": {
      "text/plain": [
       "'\\nStrawberry.'"
      ]
     },
     "execution_count": 13,
     "metadata": {},
     "output_type": "execute_result"
    }
   ],
   "source": [
    "# load from disk\n",
    "index_txt = GPTSimpleVectorIndex.load_from_disk('index_document.json')\n",
    "index_txt.query(\"Which fruit is the best?\").response"
   ]
  },
  {
   "cell_type": "markdown",
   "id": "df569a9c",
   "metadata": {},
   "source": [
    "### Querying the Youtube Video (How to Bake a Vanilla Cake)"
   ]
  },
  {
   "cell_type": "code",
   "execution_count": 15,
   "id": "e2cffb6a",
   "metadata": {},
   "outputs": [
    {
     "name": "stderr",
     "output_type": "stream",
     "text": [
      "Token indices sequence length is longer than the specified maximum sequence length for this model (1782 > 1024). Running this sequence through the model will result in indexing errors\n",
      "INFO:llama_index.token_counter.token_counter:> [build_index_from_nodes] Total LLM token usage: 0 tokens\n",
      "INFO:llama_index.token_counter.token_counter:> [build_index_from_nodes] Total embedding token usage: 1782 tokens\n"
     ]
    }
   ],
   "source": [
    "from llama_index import download_loader\n",
    "\n",
    "# create a youtube download loader object\n",
    "YoutubeTranscriptReader = download_loader(\"YoutubeTranscriptReader\")\n",
    "\n",
    "# load the youtube_transcript reader\n",
    "loader = YoutubeTranscriptReader() \n",
    "\n",
    "# generate the index with the data in the youtube video\n",
    "documents_youtube = loader.load_data(ytlinks=['https://www.youtube.com/watch?v=EYXQmbZNhy8'])\n",
    "index_youtube = GPTSimpleVectorIndex.from_documents(documents_youtube)\n",
    "\n",
    "# save to disk\n",
    "index_youtube.save_to_disk('index_video.json')"
   ]
  },
  {
   "cell_type": "code",
   "execution_count": 16,
   "id": "59e231e7",
   "metadata": {},
   "outputs": [
    {
     "name": "stderr",
     "output_type": "stream",
     "text": [
      "INFO:llama_index.token_counter.token_counter:> [query] Total LLM token usage: 1834 tokens\n",
      "INFO:llama_index.token_counter.token_counter:> [query] Total embedding token usage: 9 tokens\n"
     ]
    },
    {
     "data": {
      "text/plain": [
       "'\\nIt is not possible to answer this question given the context information provided.'"
      ]
     },
     "execution_count": 16,
     "metadata": {},
     "output_type": "execute_result"
    }
   ],
   "source": [
    "# how should I measure the flour?\n",
    "# where should I crack the eggs\n",
    "index_youtube.query('Who is going to win the NBA playoffs?').response"
   ]
  },
  {
   "cell_type": "markdown",
   "id": "b4086dfa",
   "metadata": {},
   "source": [
    "### Querying a Wikipedia Page (Page on Apples) "
   ]
  },
  {
   "cell_type": "code",
   "execution_count": 30,
   "id": "aa329fb6",
   "metadata": {},
   "outputs": [
    {
     "name": "stderr",
     "output_type": "stream",
     "text": [
      "INFO:llama_index.token_counter.token_counter:> [build_index_from_nodes] Total LLM token usage: 0 tokens\n",
      "INFO:llama_index.token_counter.token_counter:> [build_index_from_nodes] Total embedding token usage: 4604 tokens\n"
     ]
    }
   ],
   "source": [
    "from llama_index import download_loader\n",
    "\n",
    "# create a wikipedia download loader object\n",
    "WikipediaReader = download_loader(\"WikipediaReader\")\n",
    "\n",
    "# load the wikipedia reader object\n",
    "loader = WikipediaReader()\n",
    "documents = loader.load_data(pages=['Strawberry'])\n",
    "\n",
    "index_wiki = GPTSimpleVectorIndex.from_documents(documents)\n",
    "index_wiki.save_to_disk('index_wikepedia.json')"
   ]
  },
  {
   "cell_type": "code",
   "execution_count": 29,
   "id": "5abad4fd",
   "metadata": {},
   "outputs": [
    {
     "name": "stderr",
     "output_type": "stream",
     "text": [
      "INFO:llama_index.token_counter.token_counter:> [query] Total LLM token usage: 3629 tokens\n",
      "INFO:llama_index.token_counter.token_counter:> [query] Total embedding token usage: 5 tokens\n"
     ]
    },
    {
     "data": {
      "text/plain": [
       "\"\\n\\nThe countries that produce strawberries include China, the United States, Egypt, France, England, Chile, Poland, Argentina, and Chile. These countries have invested in the production of strawberries, with costs of up to $35,000 per acre to harvest them. The US and Canadian markets for strawberries are dominated by the California-based company Driscoll's, and strawberries are a popular item in grocery stores. They are also used in a variety of culinary dishes.\""
      ]
     },
     "execution_count": 29,
     "metadata": {},
     "output_type": "execute_result"
    }
   ],
   "source": [
    "# query the index \n",
    "index_wiki.query('Which countries produce strawberries?').response"
   ]
  }
 ],
 "metadata": {
  "kernelspec": {
   "display_name": "Python 3 (ipykernel)",
   "language": "python",
   "name": "python3"
  },
  "language_info": {
   "codemirror_mode": {
    "name": "ipython",
    "version": 3
   },
   "file_extension": ".py",
   "mimetype": "text/x-python",
   "name": "python",
   "nbconvert_exporter": "python",
   "pygments_lexer": "ipython3",
   "version": "3.8.12"
  },
  "toc": {
   "base_numbering": 1,
   "nav_menu": {},
   "number_sections": true,
   "sideBar": true,
   "skip_h1_title": false,
   "title_cell": "Table of Contents",
   "title_sidebar": "Contents",
   "toc_cell": false,
   "toc_position": {},
   "toc_section_display": true,
   "toc_window_display": false
  }
 },
 "nbformat": 4,
 "nbformat_minor": 5
}
